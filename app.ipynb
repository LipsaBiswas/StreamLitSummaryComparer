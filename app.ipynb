{
 "cells": [
  {
   "cell_type": "code",
   "execution_count": 1,
   "metadata": {},
   "outputs": [],
   "source": [
    "import pickle\n",
    "import streamlit as st"
   ]
  },
  {
   "cell_type": "code",
   "execution_count": 6,
   "metadata": {},
   "outputs": [
    {
     "data": {
      "text/plain": [
       "'C:\\\\Users\\\\hp\\\\StreamLit-summaryApp'"
      ]
     },
     "execution_count": 6,
     "metadata": {},
     "output_type": "execute_result"
    }
   ],
   "source": [
    "# pwd"
   ]
  },
  {
   "cell_type": "code",
   "execution_count": 2,
   "metadata": {},
   "outputs": [
    {
     "name": "stderr",
     "output_type": "stream",
     "text": [
      "C:\\Users\\hp\\anaconda3\\lib\\site-packages\\torchaudio\\extension\\extension.py:14: UserWarning: torchaudio C++ extension is not available.\n",
      "  warnings.warn('torchaudio C++ extension is not available.')\n",
      "C:\\Users\\hp\\anaconda3\\lib\\site-packages\\torchaudio\\backend\\utils.py:88: UserWarning: No audio backend is available.\n",
      "  warnings.warn('No audio backend is available.')\n"
     ]
    }
   ],
   "source": [
    "# loading in the model to predict on the data\n",
    "pickle_in = open('saved_models/bert_model.pkl', 'rb')\n",
    "bert_model = pickle.load(pickle_in)"
   ]
  },
  {
   "cell_type": "code",
   "execution_count": 3,
   "metadata": {},
   "outputs": [],
   "source": [
    "def welcome():\n",
    "    return 'welcome all'"
   ]
  },
  {
   "cell_type": "code",
   "execution_count": 4,
   "metadata": {},
   "outputs": [],
   "source": [
    "def SummarizeText(inp):  \n",
    "   \n",
    "    summary_generated = bert_model(inp)\n",
    "    print(summary_generated)\n",
    "    return summary_generated"
   ]
  },
  {
   "cell_type": "code",
   "execution_count": 5,
   "metadata": {},
   "outputs": [
    {
     "name": "stderr",
     "output_type": "stream",
     "text": [
      "2021-05-20 14:33:40.915 WARNING root: \n",
      "  \u001b[33m\u001b[1mWarning:\u001b[0m to view this Streamlit app on a browser, run it with the following\n",
      "  command:\n",
      "\n",
      "    streamlit run C:\\Users\\hp\\anaconda3\\lib\\site-packages\\ipykernel_launcher.py [ARGUMENTS]\n"
     ]
    }
   ],
   "source": [
    "def main():\n",
    "      # giving the webpage a title\n",
    "    st.title(\"Abstract auto summarization\")\n",
    "      \n",
    "    # here we define some of the front end elements of the web page like \n",
    "    # the font and background color, the padding and the text to be displayed\n",
    "    html_temp = \"\"\"\n",
    "    <div style =\"background-color:tomato;padding:13px\">\n",
    "    <h1 style =\"color:black;text-align:center;\">Summarize </h1>\n",
    "    </div>\n",
    "    \"\"\"\n",
    "      \n",
    "    # this line allows us to display the front end aspects we have \n",
    "    # defined in the above code\n",
    "    st.markdown(html_temp, unsafe_allow_html = True)\n",
    "      \n",
    "    # the following lines create text boxes in which the user can enter \n",
    "    # the data required to make the prediction\n",
    "    abstract_text = st.text_input(\"Abstract\", \"Type Here\") \n",
    "    result =\"\"\n",
    "      \n",
    "    # the below line ensures that when the button called 'Predict' is clicked, \n",
    "    # the prediction function defined above is called to make the prediction \n",
    "    # and store it in the variable result\n",
    "    if st.button(\"Submit\"):\n",
    "        result = SummarizeText(abstract_text)\n",
    "    st.success('The output is {}'.format(result))\n",
    "     \n",
    "if __name__=='__main__':\n",
    "    main()"
   ]
  }
 ],
 "metadata": {
  "kernelspec": {
   "display_name": "Python 3",
   "language": "python",
   "name": "python3"
  },
  "language_info": {
   "codemirror_mode": {
    "name": "ipython",
    "version": 3
   },
   "file_extension": ".py",
   "mimetype": "text/x-python",
   "name": "python",
   "nbconvert_exporter": "python",
   "pygments_lexer": "ipython3",
   "version": "3.7.6"
  }
 },
 "nbformat": 4,
 "nbformat_minor": 4
}
